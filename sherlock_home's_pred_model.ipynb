{
 "cells": [
  {
   "cell_type": "markdown",
   "metadata": {},
   "source": [
    "# 1. 기본 설정"
   ]
  },
  {
   "cell_type": "code",
   "execution_count": null,
   "metadata": {
    "colab": {
     "base_uri": "https://localhost:8080/"
    },
    "executionInfo": {
     "elapsed": 1705,
     "status": "ok",
     "timestamp": 1742789897863,
     "user": {
      "displayName": "Jiyun On",
      "userId": "05482456851340441560"
     },
     "user_tz": -540
    },
    "id": "pHGGLgew0z1Z",
    "outputId": "83960031-75c4-4a7f-aec8-73e41bae5e5c"
   },
   "outputs": [],
   "source": [
    "# 필요한 라이브러리 import\n",
    "import pandas as pd\n",
    "import numpy as np\n",
    "import seaborn as sns\n",
    "import matplotlib.pyplot as plt\n",
    "import scipy.stats as stats\n",
    "import datetime\n",
    "import warnings\n",
    "warnings.filterwarnings('ignore')\n",
    "\n",
    "# 사용자 정의 컬럼 이름 설정\n",
    "column_names = [\n",
    "    'RCPT_YR', 'CGG_CD', 'CGG_NM', 'STDG_CD', 'STDG_NM',\n",
    "    'LOTNO_SE', 'LOTNO_SE_NM', 'MNO', 'SNO', 'BLDG_NM',\n",
    "    'CTRT_DAY', 'THING_AMT', 'ARCH_AREA', 'LAND_AREA', 'FLR',\n",
    "    'RGHT_SE', 'RTRCN_DAY', 'ARCH_YR', 'BLDG_USG', 'DCLR_SE',\n",
    "    'OPBIZ_RESTAGNT_SGG_NM'\n",
    "]\n",
    "\n",
    "# 컬럼별 데이터 타입 설정\n",
    "dtype_dict = {\n",
    "    'RCPT_YR': 'int64',\n",
    "    'CGG_CD': 'string',\n",
    "    'CGG_NM': 'string',\n",
    "    'STDG_CD': 'string',\n",
    "    'STDG_NM': 'string',\n",
    "    'LOTNO_SE': 'string',\n",
    "    'LOTNO_SE_NM': 'string',\n",
    "    'MNO': 'string',\n",
    "    'SNO': 'string',\n",
    "    'BLDG_NM': 'string',\n",
    "    'CTRT_DAY': 'string',\n",
    "    'THING_AMT': 'int64',\n",
    "    'ARCH_AREA': 'float64',\n",
    "    'LAND_AREA': 'float64',\n",
    "    'FLR': 'string',\n",
    "    'RGHT_SE': 'string',\n",
    "    'RTRCN_DAY': 'string',\n",
    "    'ARCH_YR': 'string',\n",
    "    'BLDG_USG': 'string',\n",
    "    'DCLR_SE': 'string',\n",
    "    'OPBIZ_RESTAGNT_SGG_NM': 'string'\n",
    "}"
   ]
  },
  {
   "cell_type": "code",
   "execution_count": null,
   "metadata": {},
   "outputs": [],
   "source": [
    "# 데이터 시각화 시, 한글 폰트 깨지는 현상으로 인해, 폰트 설정 및 마이너스 기호 설정\n",
    "import matplotlib.font_manager as fm\n",
    "import matplotlib as mpl\n",
    "\n",
    "plt.rcParams['font.family'] = 'Malgun Gothic'\n",
    "mpl.rcParams['axes.unicode_minus'] = False"
   ]
  },
  {
   "cell_type": "code",
   "execution_count": null,
   "metadata": {
    "colab": {
     "base_uri": "https://localhost:8080/"
    },
    "executionInfo": {
     "elapsed": 20,
     "status": "ok",
     "timestamp": 1742789903569,
     "user": {
      "displayName": "Jiyun On",
      "userId": "05482456851340441560"
     },
     "user_tz": -540
    },
    "id": "BAhPeuPSG5zM",
    "outputId": "7c0d6dcb-05e3-4a71-ef5e-06c7013b3f0e"
   },
   "outputs": [],
   "source": [
    "# 데이터프레임 컬럼 설명\n",
    "import pprint\n",
    "\n",
    "col_desc = {\n",
    "    'RCPT_YR' : '부동산 거래가 접수된 연도 (예: 2024)',\n",
    "    'CGG_CD' : '자치구를 나타내는 코드 (예: 11500)',\n",
    "    'CGG_NM' : '자치구의 이름 (예: 성동구)',\n",
    "    'STDG_CD' : '법정동을 나타내는 코드 (예: 10300)',\n",
    "    'STDG_NM' : '법정동의 이름 (예: 하왕십리동)',\n",
    "    'LOTNO_SE' : '지번의 구분 코드 (예: 1)',\n",
    "    'LOTNO_SE_NM' : '지번 구분에 대한 명칭 (예: 대지)',\n",
    "    'MNO' : '매물의 본번 정보',\n",
    "    'SNO' : '매물의 부번 정보',\n",
    "    'BLDG_NM' :'매물 건물의 이름 (예: 동인드림힐스)',\n",
    "    'CTRT_DAY' : '계약이 체결된 날짜 (예: 20241014)',\n",
    "    'THING_AMT' : '거래된 금액(단위: 만원) (예: 28850)',\n",
    "    'ARCH_AREA' : '건물의 면적(㎡)',\n",
    "    'LAND_AREA' : '토지의 면적(㎡)',\n",
    "    'FLR' : '매물이 위치한 층수',\n",
    "    'RGHT_SE' : '매물 권리 유형',\n",
    "    'RTRCN_DAY' : '거래 취소일(해당 시)',\n",
    "    'ARCH_YR' : '건축물이 지어진 연도',\n",
    "    'BLDG_USG' : '건물이 주요 용도 (예: 오피스텔)',\n",
    "    'DCLR_SE' : '신고의 구분 유형 (예: 중개거래)',\n",
    "    'OPBIZ_RESTAGNT_SGG_NM' : '신고한 개업공인중개사가 위치한 시군구 명 (예: 서울 성동구)'\n",
    "}\n",
    "\n",
    "pprint.pprint(col_desc)"
   ]
  },
  {
   "cell_type": "markdown",
   "metadata": {},
   "source": [
    "# 2. 데이터셋 불러오기"
   ]
  },
  {
   "cell_type": "code",
   "execution_count": null,
   "metadata": {},
   "outputs": [],
   "source": [
    "# 데이터셋 불러오기\n",
    "\n",
    "# 2018년도 자료\n",
    "df_2018 = pd.read_csv('dataset/2018.csv', encoding='euc-kr', names=column_names, dtype=dtype_dict, skiprows=1)\n",
    "\n",
    "# 2019년도 자료\n",
    "df_2019 = pd.read_csv('dataset/2019.csv', encoding='euc-kr', names=column_names, dtype=dtype_dict, skiprows=1)\n",
    "\n",
    "# 2020년도 자료\n",
    "df_2020 = pd.read_csv('dataset/2020.csv', encoding='euc-kr', names=column_names, dtype=dtype_dict, skiprows=1)\n",
    "\n",
    "# 2021년도 자료\n",
    "df_2021 = pd.read_csv('dataset/2021.csv', encoding='euc-kr', names=column_names, dtype=dtype_dict, skiprows=1)\n",
    "\n",
    "# 2022년도 자료\n",
    "df_2022 = pd.read_csv('dataset/2022.csv', encoding='euc-kr', names=column_names, dtype=dtype_dict, skiprows=1)\n",
    "\n",
    "# 2023년도 자료\n",
    "df_2023 = pd.read_csv('dataset/2023.csv', encoding='euc-kr', names=column_names, dtype=dtype_dict, skiprows=1)\n",
    "\n",
    "# 2024년도 자료\n",
    "df_2024 = pd.read_csv('dataset/2024.csv', encoding='euc-kr', names=column_names, dtype=dtype_dict, skiprows=1)"
   ]
  },
  {
   "cell_type": "code",
   "execution_count": null,
   "metadata": {},
   "outputs": [],
   "source": [
    "# 2018년도 ~ 2024년도 테이블 수직 병합\n",
    "df_total = pd.concat([df_2018, df_2019, df_2020, df_2021, df_2022, df_2023, df_2024], axis=0, ignore_index=True)\n",
    "df_total.head()"
   ]
  },
  {
   "cell_type": "markdown",
   "metadata": {},
   "source": [
    "# 3. 데이터 EDA"
   ]
  },
  {
   "cell_type": "code",
   "execution_count": null,
   "metadata": {},
   "outputs": [],
   "source": [
    "# 결측치 파악\n",
    "df_total.info()"
   ]
  },
  {
   "cell_type": "markdown",
   "metadata": {},
   "source": [
    "## 3-1. 주요 변수 기준 결측치 처리"
   ]
  },
  {
   "cell_type": "code",
   "execution_count": null,
   "metadata": {},
   "outputs": [],
   "source": [
    "# CGG_NM 자치구명, BLDG_NM 건물 이름, ARCH_YR 건축 연도 없는 경우 결측치 제거\n",
    "df_total['ARCH_YR'] = df_total['ARCH_YR'].replace(0, np.nan)\n",
    "df_total.dropna(subset = ['CGG_NM', 'BLDG_NM', 'ARCH_YR'], inplace=True)\n",
    "\n",
    "# 거래 유형 직거래, 취소 거래 제거\n",
    "df_total2 = df_total[(df_total['DCLR_SE'].isna() | (df_total['DCLR_SE'] != '직거래')) & (df_total['RTRCN_DAY'].isna())]"
   ]
  },
  {
   "cell_type": "code",
   "execution_count": null,
   "metadata": {},
   "outputs": [],
   "source": [
    "# 결측치 제거 후 확인\n",
    "df_total2.info()"
   ]
  },
  {
   "cell_type": "code",
   "execution_count": null,
   "metadata": {},
   "outputs": [],
   "source": [
    "# 불필요한 컬럼 제거 (LOTNO_SE, LOTNO_SE_NM, MNO, SNO, LAND_AREA, RGHT_SE, OPBIZ_RESTAGNT_SGG_NM)\n",
    "df_total2.drop(columns=['LOTNO_SE', 'LOTNO_SE_NM', 'MNO', 'SNO', 'LAND_AREA', 'RGHT_SE', 'OPBIZ_RESTAGNT_SGG_NM'], inplace=True)"
   ]
  },
  {
   "cell_type": "code",
   "execution_count": null,
   "metadata": {},
   "outputs": [],
   "source": [
    "df_total2.info()"
   ]
  },
  {
   "cell_type": "markdown",
   "metadata": {},
   "source": [
    "## 3-3. 파생변수 생성"
   ]
  },
  {
   "cell_type": "code",
   "execution_count": null,
   "metadata": {},
   "outputs": [],
   "source": [
    "# 자치구를 생활권역으로 구별하는 컬럼 신규 생성\n",
    "CT = ['종로구', '중구', '용산구'] # 도심권\n",
    "WN = ['은평구', '서대문구', '마포구'] # 서북권\n",
    "EN = ['강북구', '도봉구', '노원구', '성북구', '동대문구', '중랑구', '성동구', '광진구'] # 동북권\n",
    "WS = ['강서구', '양천구', '영등포구', '구로구', '금천구', '동작구', '관악구'] # 서남권\n",
    "ES = ['서초구', '강남구', '송파구', '강동구'] # 동남권\n",
    "\n",
    "df_total2['AREA_NM'] = df_total2['CGG_NM'].apply(lambda x: '동남권' if x in ES else ('서북권' if x in WN else ('도심권' if x in CT else ('동북권' if x in EN else '서남권'))))"
   ]
  },
  {
   "cell_type": "code",
   "execution_count": null,
   "metadata": {},
   "outputs": [],
   "source": [
    "# CTRT_DAY 거래일을 CTRT_DATE라는 DATETIME 컬럼으로 신규 생성\n",
    "df_total2['CTRT_YR'] = pd.to_datetime(df_total2['CTRT_DAY'], infer_datetime_format = True).dt.year\n",
    "\n",
    "df_total2.info()"
   ]
  },
  {
   "cell_type": "markdown",
   "metadata": {},
   "source": [
    "## 3-3. 데이터 유형 변환"
   ]
  },
  {
   "cell_type": "code",
   "execution_count": null,
   "metadata": {},
   "outputs": [],
   "source": [
    "# 숫자열로 변경 가능한 컬럼 변경\n",
    "df_total2[['CGG_CD', 'STDG_CD', 'FLR', 'ARCH_YR']] = df_total2[['CGG_CD', 'STDG_CD', 'FLR', 'ARCH_YR']].apply(pd.to_numeric)\n",
    "\n",
    "df_total2.info()\n",
    "\n",
    "# 기본 데이터셋 준비 끝"
   ]
  },
  {
   "cell_type": "code",
   "execution_count": null,
   "metadata": {},
   "outputs": [],
   "source": [
    "df_total2.head()"
   ]
  },
  {
   "cell_type": "markdown",
   "metadata": {},
   "source": [
    "# 4. 데이터 전처리"
   ]
  },
  {
   "cell_type": "markdown",
   "metadata": {},
   "source": [
    "## 4-1. 고객 페르소나 설정 후 요구조건에 맞게 데이터 필터링"
   ]
  },
  {
   "cell_type": "code",
   "execution_count": null,
   "metadata": {},
   "outputs": [],
   "source": [
    "# 고객 요구 조건 필터링\n",
    "# 1. 초기 조건 필터링 : 2024년도 거래 기준, 아파트, 면적 66 ~ 132, 15억 이하\n",
    "df_APT_1 = df_total2[(df_total2['CTRT_YR'] == 2024) &\n",
    "                (df_total2['BLDG_USG'] == '아파트') &\n",
    "                (df_total2['ARCH_AREA'].between(66, 132)) &\n",
    "                (df_total2['THING_AMT'] <= 150000)]\n",
    "\n",
    "df_APT_1.info()"
   ]
  },
  {
   "cell_type": "code",
   "execution_count": null,
   "metadata": {},
   "outputs": [],
   "source": [
    "# 2. 추가 조건 필터링 : 위치 (동남권 : 서초, 강남, 송파, 강동 / 서북권 : 은평, 서대문, 마포), 층수 (9층 이상), 건축연도(2016년 ~ 2019년)\n",
    "\n",
    "df_APT_2 = df_APT_1[((df_APT_1['AREA_NM'] == '동남권') |\n",
    "                    (df_APT_1['AREA_NM'] == '서북권')) &\n",
    "                    (df_APT_1['FLR'] >= 9) &\n",
    "                    (df_APT_1['ARCH_YR'].between(2016, 2019))]\n",
    "\n",
    "df_APT_2.info()"
   ]
  },
  {
   "cell_type": "code",
   "execution_count": null,
   "metadata": {},
   "outputs": [],
   "source": [
    "# 동일한 매물이나, 아파트명이 변경된 경우 아파트명 통일\n",
    "df_APT_2['BLDG_NM'] = df_APT_2['BLDG_NM'].replace('힐스테이트암사', '힐스테이트 강동 리버뷰')\n",
    "df_APT_2['BLDG_NM'] = df_APT_2['BLDG_NM'].replace('e편한세상신촌1단지', '이편한세상신촌(1단지)')"
   ]
  },
  {
   "cell_type": "code",
   "execution_count": null,
   "metadata": {},
   "outputs": [],
   "source": [
    "# 3. AREA_NM 과 CGG_NM으로 인덱스 잡고 피벗 테이블 만들기\n",
    "# 이렇게 만들고 나서 아파트 이름 필터링 할 계획\n",
    "# AREA_NM, CGG_NM 하고 필요한 컬럼들만 남기기\n",
    "\n",
    "df_APT_3 = df_APT_2.set_index(['AREA_NM', 'CGG_NM'])[\n",
    "    ['CGG_CD', 'CTRT_YR', 'STDG_CD', 'STDG_NM', 'BLDG_NM', 'BLDG_USG', 'FLR', 'ARCH_AREA', 'THING_AMT', 'ARCH_YR', 'CTRT_DAY']\n",
    "].sort_index()\n",
    "\n",
    "# 데이터프레임 행이 이제 줄어들어서 전체 다 표시할 수 있을 것 같아서 전체 데이터프레임 확인\n",
    "from IPython.display import display\n",
    "display(df_APT_3)"
   ]
  },
  {
   "cell_type": "code",
   "execution_count": null,
   "metadata": {},
   "outputs": [],
   "source": [
    "# 4. 중복 아파트 매물 제거 (층, 평수 무시))\n",
    "df_APT_4 = df_APT_3.drop_duplicates(['BLDG_NM'])"
   ]
  },
  {
   "cell_type": "code",
   "execution_count": null,
   "metadata": {},
   "outputs": [],
   "source": [
    "# 5. 아파트 브랜드 명 필터링 진행\n",
    "df_APT_final = df_APT_4[df_APT_4['BLDG_NM'].str.contains('래미안|힐스테이트|디에이치|푸르지오|자이|편한세상|아크로|더샵|롯데캐슬|SK뷰|아이파크|IPARK', regex=True, na=False)].sort_values(by=['AREA_NM', 'CGG_NM', 'STDG_NM'], ascending=[True, True, True])\n",
    "\n",
    "display(df_APT_final)\n",
    "df_APT_final.info()"
   ]
  },
  {
   "cell_type": "code",
   "execution_count": null,
   "metadata": {},
   "outputs": [],
   "source": [
    "# 중복 아파트 매물 제거 (층, 평수 무시))\n",
    "df_APT_final = df_APT_final.drop_duplicates(['BLDG_NM'])\n",
    "df_APT_final.info()"
   ]
  },
  {
   "cell_type": "code",
   "execution_count": null,
   "metadata": {},
   "outputs": [],
   "source": [
    "# 선형회귀 모델의 낮은 성능으로 인해, 랜덤 포레스트 모델로 신규 작업\n",
    "# 랜덤 포레스트 모델 사용을 위해, 독립변수는 수치로 전부 변경 필요\n",
    "# 영향이 낮거나 변환하기 어려운 RCPT_YR, BLDG_NM, RTRCN_DAY, BLDG_USG, DLCR_SE 컬럼 삭제\n",
    "# 나머지는 전부 수치형, one-hot encoding 으로 변환"
   ]
  },
  {
   "cell_type": "code",
   "execution_count": null,
   "metadata": {},
   "outputs": [],
   "source": [
    "# 종속 변수 (THING_AMT) 로그 변환\n",
    "df_total2['THING_AMT_LOG'] = np.log(df_total2['THING_AMT'])\n",
    "\n",
    "# THING_AMT와 로그 변환 후 THING_AMT_LOG의 분포를 확인하는 단계\n",
    "fig, axes = plt.subplots(1, 2, figsize=(12, 5))\n",
    "\n",
    "sns.histplot(df_total2['THING_AMT'], bins=50, kde=True, ax=axes[0])\n",
    "axes[0].set_title('Original Data')\n",
    "\n",
    "sns.histplot(df_total2['THING_AMT_LOG'], bins=50, kde=True, ax=axes[1])\n",
    "axes[1].set_title('Log Transformed Data')\n",
    "\n",
    "plt.show()\n",
    "\n",
    "# Q-Q Plot을 통한 정규성 확인\n",
    "stats.probplot(df_total2['THING_AMT_LOG'], dist=\"norm\", plot=plt)\n",
    "plt.title('Q-Q Plot of THING_AMT_LOG')\n",
    "plt.show()"
   ]
  },
  {
   "cell_type": "code",
   "execution_count": null,
   "metadata": {},
   "outputs": [],
   "source": [
    "# 예측 모델에 사용할 자치구 설정 (위에서 페르소나로 필터링 완료된 자치구)\n",
    "selected_CGG = ['강동구', '송파구', '마포구', '서대문구', '은평구']\n",
    "\n",
    "# 건축 연도 0으로 되어있는 것을 결측치로 제거하기\n",
    "df_total2['ARCH_YR'] = df_total2['ARCH_YR'].replace(0, np.nan)\n",
    "df_total2.dropna(subset=['ARCH_YR'], inplace=True)\n",
    "\n",
    "# 자치구, 아파트, 거래 체결 연도 필터링\n",
    "df_modelset = df_total2[(df_total2['CGG_NM'].isin(selected_CGG))\n",
    "            & (df_total2['CTRT_YR'].between(2018, 2024))\n",
    "            & (df_total2['BLDG_USG'] == '아파트')]\n",
    "df_modelset.info()"
   ]
  },
  {
   "cell_type": "markdown",
   "metadata": {},
   "source": [
    "## 4-2. 필요한 외부 데이터 추가"
   ]
  },
  {
   "cell_type": "code",
   "execution_count": null,
   "metadata": {},
   "outputs": [],
   "source": [
    "# 0. 추가적으로 필요한 외부 데이터 컬럼 추가\n",
    "# 자치구 내 지하철 개수\n",
    "sub_cnt = {'강동구' : 15, '송파구' : 28, '마포구' : 16, '서대문구' : 5, '은평구' : 13 }\n",
    "\n",
    "# 자치구 내 학교 개수\n",
    "school_cnt = {'강동구' : 64, '송파구' : 97, '마포구' : 52, '서대문구' : 43, '은평구' : 68}\n",
    "\n",
    "# 자치구 내 공원 개수\n",
    "park_cnt = {'강동구' : 131, '송파구' : 174, '마포구' : 144, '서대문구' : 125, '은평구' : 136}\n",
    "\n",
    "# 자치구 내 공원 면적\n",
    "park_area = {'강동구' : 3408.1, '송파구' : 4776.8, '마포구' : 4569.3, '서대문구' : 5107.2, '은평구' : 14398.2}\n",
    "\n",
    "# 자치구 내 가구수\n",
    "household_cnt = {'강동구' : 212585, '송파구' : 287017, '마포구' : 181135, '서대문구' : 146221, '은평구' : 215305}\n",
    "\n",
    "# 자치구 내 인구수\n",
    "population_cnt = {'강동구' : 481474, '송파구' : 656310, '마포구' : 372745, '서대문구' : 318622, '은평구' : 465350}\n",
    "\n",
    "# 자치구 내 가구 평균 인구 수\n",
    "pop_house = {'강동구' : 2.24, '송파구' : 2.27, '마포구' : 2.00, '서대문구' : 2.07, '은평구' : 2.14}\n",
    "\n",
    "add_set = pd.DataFrame({\n",
    "    'CGG_NM' : sub_cnt.keys(),\n",
    "    'SUB_CNT' : sub_cnt.values(),\n",
    "    'SCL_CNT' : school_cnt.values(),\n",
    "    'PARK_CNT' : park_cnt.values(),\n",
    "    'PARK_AREA' : park_area.values(),\n",
    "    'HAUS_CNT' : household_cnt.values(),\n",
    "    'POP_CNT' : population_cnt.values(),\n",
    "    'POPHAUS' : pop_house.values()\n",
    "})\n",
    "df_modelset = df_modelset.merge(add_set, on='CGG_NM', how='left')\n",
    "df_modelset.head()"
   ]
  },
  {
   "cell_type": "code",
   "execution_count": null,
   "metadata": {},
   "outputs": [],
   "source": [
    "# 2018년 ~ 2024년 주담대 대출 금리 데이터 추가\n",
    "df_loan = pd.read_csv('dataset/예금은행 대출금리(신규취급액 기준)_세로.csv')\n",
    "df_loan.rename(columns={'변환' : 'LOAN_MON', '원자료' : 'LOAN'}, inplace=True)\n",
    "df_loan['LOAN_MON'] = pd.to_datetime(df_loan['LOAN_MON'], infer_datetime_format = True).dt.strftime('%Y-%m')\n",
    "\n",
    "# CTRT_DAY와 LOAN_MON의 형식 통일해주기\n",
    "df_modelset['CTRT_MON'] = pd.to_datetime(df_modelset['CTRT_DAY'], format='%Y%m%d').dt.strftime('%Y-%m')\n",
    "\n",
    "# df_loan과 df_modelset merge\n",
    "df_modelset = pd.merge(df_modelset, df_loan, how='left', left_on='CTRT_MON', right_on='LOAN_MON')\n",
    "df_modelset.info()\n",
    "df_modelset.drop(columns='LOAN_MON', inplace=True)"
   ]
  },
  {
   "cell_type": "code",
   "execution_count": null,
   "metadata": {},
   "outputs": [],
   "source": [
    "# 자치구별 주택가격지수 외부 데이터 추가\n",
    "# 2018년 ~ 2024년 자치구별 주택가격지수\n",
    "df_hprice_index = pd.read_csv('dataset/주택가격지수(매매).csv')\n",
    "df_hprice_index.drop(columns='자치구별(1)', inplace=True)\n",
    "df_hprice_index.rename(columns={'자치구별(2)' : 'CGG_NM', '시점' : 'MONTH', '아파트' : 'HOPR_IDX'}, inplace=True)\n",
    "df_hprice_index.head()\n",
    "\n",
    "# CTRT_DAY와 MONTH 형식 통일해주기\n",
    "df_hprice_index['MONTH'] = pd.to_datetime(df_hprice_index['MONTH'], infer_datetime_format = True).dt.strftime('%Y-%m')\n",
    "\n",
    "# df_hprice_index과 df_modelset merge\n",
    "df_modelset = pd.merge(df_modelset, df_hprice_index, how='left', left_on=['CGG_NM','CTRT_MON'], right_on=['CGG_NM', 'MONTH'])\n",
    "df_modelset.drop(columns='MONTH', inplace=True)\n",
    "df_modelset.head()"
   ]
  },
  {
   "cell_type": "markdown",
   "metadata": {},
   "source": [
    "## 4-3. 불필요한 변수 제거 및 데이터 유형 변환"
   ]
  },
  {
   "cell_type": "code",
   "execution_count": null,
   "metadata": {},
   "outputs": [],
   "source": [
    "# RCPT_YR, BLDG_NM, RTRCN_DAY, BLDG_USG, DLCR_SE 열 삭제\n",
    "df_rfmodelset = df_modelset.drop(columns=['RCPT_YR', 'BLDG_NM', 'RTRCN_DAY', \n",
    "                                          'BLDG_USG', 'DCLR_SE', 'STDG_NM', \n",
    "                                          'CTRT_YR', 'CTRT_MON'])"
   ]
  },
  {
   "cell_type": "code",
   "execution_count": null,
   "metadata": {},
   "outputs": [],
   "source": [
    "# CTRT_DAY를 날짜형 데이터로 변환\n",
    "df_rfmodelset['CTRT_DAY'] = pd.to_datetime(df_rfmodelset['CTRT_DAY'], infer_datetime_format = True)"
   ]
  },
  {
   "cell_type": "code",
   "execution_count": null,
   "metadata": {},
   "outputs": [],
   "source": [
    "df_rfmodelset.info()"
   ]
  },
  {
   "cell_type": "markdown",
   "metadata": {},
   "source": [
    "## 4-4. 파생변수 생성"
   ]
  },
  {
   "cell_type": "code",
   "execution_count": null,
   "metadata": {},
   "outputs": [],
   "source": [
    "# 날짜를 timestamp로 변환 후 년, 월로 분해해서 컬럼 생성\n",
    "df_rfmodelset['CTRT_YR'] = df_rfmodelset['CTRT_DAY'].dt.year\n",
    "df_rfmodelset['CTRT_MO'] = df_rfmodelset['CTRT_DAY'].dt.month\n",
    "\n",
    "df_rfmodelset.info()"
   ]
  },
  {
   "cell_type": "code",
   "execution_count": null,
   "metadata": {},
   "outputs": [],
   "source": [
    "# CTRT_DAY는 수치형 변환하지 않을 것이기 때문에 삭제\n",
    "df_rfmodelset.drop(columns='CTRT_DAY', inplace=True)"
   ]
  },
  {
   "cell_type": "code",
   "execution_count": null,
   "metadata": {},
   "outputs": [],
   "source": [
    "df_rfmodelset.info()"
   ]
  },
  {
   "cell_type": "markdown",
   "metadata": {},
   "source": [
    "# 5. 모델링 - RandomForest"
   ]
  },
  {
   "cell_type": "code",
   "execution_count": null,
   "metadata": {},
   "outputs": [],
   "source": [
    "# 필요한 라이브러리 import\n",
    "# 데이터 전처리 관련 라이브러리\n",
    "from sklearn.preprocessing import OneHotEncoder\n",
    "from sklearn.preprocessing import StandardScaler\n",
    "\n",
    "# 데이터 전처리 컬럼별 적용\n",
    "from sklearn.compose import ColumnTransformer\n",
    "\n",
    "# 파이프라인\n",
    "from sklearn.pipeline import Pipeline\n",
    "\n",
    "# 모델\n",
    "from sklearn.ensemble import RandomForestRegressor\n",
    "from sklearn.model_selection import train_test_split\n",
    "\n",
    "# 성능 지표\n",
    "from sklearn.metrics import mean_absolute_error, mean_squared_error, r2_score, mean_absolute_percentage_error\n",
    "from math import sqrt\n",
    "\n",
    "\n",
    "# 데이터셋 준비\n",
    "df_rfcopy = df_rfmodelset.copy()\n",
    "\n",
    "X = df_rfcopy.drop(columns=['THING_AMT', 'THING_AMT_LOG'])\n",
    "y = df_rfcopy['THING_AMT_LOG'] # target변수\n",
    "\n",
    "# 범주형 변수\n",
    "cat_features = ['CGG_NM', 'AREA_NM']\n",
    "\n",
    "# 수치형 변수\n",
    "num_features = [col for col in X.columns if col not in cat_features]\n",
    "\n",
    "# 변수 전처리 단계\n",
    "preprocessor = ColumnTransformer(\n",
    "    transformers=[\n",
    "        ('numbers', StandardScaler(), num_features),  # 수치형 변수 그대로 사용\n",
    "        ('categories', OneHotEncoder(), cat_features)  # 범주형 변수 원-핫 인코딩\n",
    "    ])\n",
    "\n",
    "# 랜덤 포레스트 모델 생성 (랜덤 서치로 최적화 완료)\n",
    "\n",
    "rf = RandomForestRegressor(n_estimators=140, # 생성할 트리의 수, 트리의 수가 많을 수록 성능이 향상될 수 있지만 계산 비용 증가\n",
    "                           max_depth=25, # 개별 트리의 최대 깊이, 값을 작게 설정하면 모델 단순, 분산 감소, 편향 증가되어 데이터의 다양한 패턴을 잡아내지 못함\n",
    "                           min_samples_split=2, # 노드를 분할하기 위해 필요한 최소 샘플 개수, 값을 작게 설정하면 모델 복잡도 증가\n",
    "                           random_state=42)  # 랜덤 시드 지정, 재현성을 위해 사용\n",
    "\n",
    "pipe = Pipeline(steps=[\n",
    "    ('preprocessor', preprocessor),\n",
    "    ('regressor', rf)\n",
    "])\n",
    "\n",
    "# 훈련 데이터 나누기\n",
    "X_train, X_test, y_train, y_test = train_test_split(X, y, test_size=0.3, random_state=42)\n",
    "\n",
    "# 훈련\n",
    "model = pipe.fit(X_train, y_train)\n",
    "\n",
    "# 예측\n",
    "y_pred_train = pipe.predict(X_train)\n",
    "y_pred_test = pipe.predict(X_test)"
   ]
  },
  {
   "cell_type": "code",
   "execution_count": null,
   "metadata": {
    "scrolled": true
   },
   "outputs": [],
   "source": [
    "# 모델 성능 평가 - RMSE\n",
    "rmse_train = sqrt(mean_squared_error(y_train, y_pred_train))\n",
    "rmse_test = sqrt(mean_squared_error(y_test, y_pred_test))\n",
    "\n",
    "# MAE\n",
    "mae_train = mean_absolute_error(y_train, y_pred_train)\n",
    "mae_test = mean_absolute_error(y_test, y_pred_test)\n",
    "\n",
    "# R square\n",
    "r2_train = r2_score(y_train, y_pred_train)\n",
    "r2_test = r2_score(y_test, y_pred_test)\n",
    "\n",
    "# MAPE\n",
    "mape_train = mean_absolute_percentage_error(y_train, y_pred_train)\n",
    "mape_test = mean_absolute_percentage_error(y_test, y_pred_test)\n",
    "\n",
    "print(\"Train RMSE:\", rmse_train)\n",
    "print(\"Test RMSE:\", rmse_test)\n",
    "print(\"Train MAE:\", mae_train)\n",
    "print(\"Test MAE:\", mae_test)"
   ]
  },
  {
   "cell_type": "code",
   "execution_count": null,
   "metadata": {},
   "outputs": [],
   "source": [
    "# # 랜덤 서치 사용하여 하이퍼파라미터 최적화 진행 (진행 완료하여 전부 주석처리함)\n",
    "# from sklearn.model_selection import RandomizedSearchCV\n",
    "\n",
    "# dist = {\n",
    "#     'regressor__n_estimators': list(range(50, 201, 10)),\n",
    "#     'regressor__max_depth': [5, 10, 15, 20, 25],\n",
    "#     'regressor__min_samples_split': [2, 4, 6, 8, 10]\n",
    "# }\n",
    "# rf = RandomForestRegressor(random_state=42)\n",
    "\n",
    "# pipe = Pipeline(steps=[\n",
    "#     ('preprocessor', preprocessor),\n",
    "#     ('regressor', rf)\n",
    "# ])\n",
    "\n",
    "# # RandomizedSearchCV\n",
    "# random_search = RandomizedSearchCV(\n",
    "#     estimator=pipe,\n",
    "#     param_distributions=dist,\n",
    "#     n_iter=30,\n",
    "#     cv=5,\n",
    "#     scoring='r2',\n",
    "#     n_jobs=-1,\n",
    "#     random_state=42\n",
    "# )\n",
    "\n",
    "# # 훈련 데이터 나누기\n",
    "# X_train, X_test, y_train, y_test = train_test_split(X, y, test_size=0.3, random_state=42)\n",
    "\n",
    "# # 최적 하이퍼파라미터 탐색 & 모델 학습\n",
    "# random_search.fit(X_train, y_train)\n",
    "\n",
    "# # 최적 하이퍼파라미터 탐색 & 모델 학습\n",
    "# random_search.fit(X_train, y_train)\n",
    "\n",
    "# # 최적의 모델 선택\n",
    "# best_model = random_search.best_estimator_\n",
    "\n",
    "# # 예측\n",
    "# y_pred_train = best_model.predict(X_train)\n",
    "# y_pred_test = best_model.predict(X_test)\n",
    "\n",
    "# # 최적의 하이퍼파라미터 확인\n",
    "# print(\"Best Parameters:\", random_search.best_params_)"
   ]
  },
  {
   "cell_type": "code",
   "execution_count": null,
   "metadata": {},
   "outputs": [],
   "source": [
    "# 변수 중요도 확인\n",
    "importances = pipe.named_steps['regressor'].feature_importances_\n",
    "figure_importance = {}\n",
    "for f, i in zip(X.columns, importances):\n",
    "    figure_importance[f] = i\n",
    "    print(f\"{f} : {i}\")\n",
    "\n",
    "df_figimp = pd.Series(figure_importance).to_frame(name=\"Importance\")\n",
    "df_figimp.index.name = \"Feature\"\n",
    "df_figimp.reset_index(inplace=True)\n",
    "print(df_figimp)"
   ]
  },
  {
   "cell_type": "code",
   "execution_count": null,
   "metadata": {},
   "outputs": [],
   "source": [
    "# 변수 중요도 시각화\n",
    "df_figimp_sorted = df_figimp.sort_values(by='Importance', ascending=True)\n",
    "plt.figure(figsize = (8,8))\n",
    "\n",
    "plt.barh(df_figimp_sorted['Feature'], df_figimp_sorted['Importance'], color='#C4A484')\n",
    "plt.title('변수별 중요도')\n",
    "plt.xlabel('변수')\n",
    "plt.ylabel('중요도')\n",
    "plt.show()"
   ]
  },
  {
   "cell_type": "code",
   "execution_count": null,
   "metadata": {},
   "outputs": [],
   "source": [
    "print(model.score(X_train, y_train))\n",
    "print(model.score(X_test, y_test))"
   ]
  },
  {
   "cell_type": "markdown",
   "metadata": {},
   "source": [
    "# 예측 모델로 2024년도 5개의 자치구 자료로 2025년도 금액 예측해보기"
   ]
  },
  {
   "cell_type": "code",
   "execution_count": null,
   "metadata": {},
   "outputs": [],
   "source": [
    "# 피벗 테이블 생성 이전의 데이터프레임인 df_APT_2 데이터프레임 사용\n",
    "# 2024년도 데이터로 2025년도 5개의 자치구의 거래 금액 예측해보기\n",
    "df_2025_APT = df_APT_2.drop_duplicates(['BLDG_NM'])\n",
    "df_2025_APT = df_2025_APT[df_2025_APT['BLDG_NM'].str.contains('래미안|힐스테이트|디에이치|푸르지오|자이|편한세상|아크로|더샵|롯데캐슬|SK뷰|아이파크|IPARK', regex=True, na=False)].sort_values(by=['AREA_NM', 'CGG_NM', 'STDG_NM'], ascending=[True, True, True])\n",
    "\n",
    "df_2025_APT.head()"
   ]
  },
  {
   "cell_type": "code",
   "execution_count": null,
   "metadata": {},
   "outputs": [],
   "source": [
    "# SUB_CNT, SCL_CNT, PARK_CNT, PARK_AREA, HAUS_CNT,POP_CNT,  POPHAUS 컬럼 만들어주기\n",
    "sub_cnt = {'강동구' : 15, '송파구' : 28, '마포구' : 16, '서대문구' : 5, '은평구' : 13 }\n",
    "school_cnt = {'강동구' : 64, '송파구' : 97, '마포구' : 52, '서대문구' : 43, '은평구' : 68}\n",
    "park_cnt = {'강동구' : 131, '송파구' : 174, '마포구' : 144, '서대문구' : 125, '은평구' : 136}\n",
    "park_area = {'강동구' : 3408.1, '송파구' : 4776.8, '마포구' : 4569.3, '서대문구' : 5107.2, '은평구' : 14398.2}\n",
    "household_cnt = {'강동구' : 212585, '송파구' : 287017, '마포구' : 181135, '서대문구' : 146221, '은평구' : 215305}\n",
    "population_cnt = {'강동구' : 481474, '송파구' : 656310, '마포구' : 372745, '서대문구' : 318622, '은평구' : 465350}\n",
    "pop_house = {'강동구' : 2.24, '송파구' : 2.27, '마포구' : 2.00, '서대문구' : 2.07, '은평구' : 2.14}\n",
    "\n",
    "add_set = pd.DataFrame({\n",
    "    'CGG_NM' : sub_cnt.keys(),\n",
    "    'SUB_CNT' : sub_cnt.values(),\n",
    "    'SCL_CNT' : school_cnt.values(),\n",
    "    'PARK_CNT' : park_cnt.values(),\n",
    "    'PARK_AREA' : park_area.values(),\n",
    "    'HAUS_CNT' : household_cnt.values(),\n",
    "    'POP_CNT' : population_cnt.values(),\n",
    "    'POPHAUS' : pop_house.values()\n",
    "})\n",
    "df_2025_APT= df_2025_APT.merge(add_set, on='CGG_NM', how='left')\n",
    "df_2025_APT.head()"
   ]
  },
  {
   "cell_type": "code",
   "execution_count": null,
   "metadata": {},
   "outputs": [],
   "source": [
    "# HOPR_IDX 컬럼 생성\n",
    "df_2025_APT['CTRT_MON'] = pd.to_datetime(df_2025_APT['CTRT_DAY'], format='%Y%m%d').dt.strftime('%Y-%m')\n",
    "df_2025_APT= pd.merge(df_2025_APT, df_hprice_index, how='left', left_on=['CGG_NM','CTRT_MON'], right_on=['CGG_NM', 'MONTH'])\n",
    "df_2025_APT.drop(columns='MONTH', inplace=True)\n",
    "df_2025_APT.head()"
   ]
  },
  {
   "cell_type": "code",
   "execution_count": null,
   "metadata": {},
   "outputs": [],
   "source": [
    "# 금리 (LOAN) 컬럼 생성\n",
    "df_2025_APT = pd.merge(df_2025_APT, df_loan, how='left', left_on='CTRT_MON', right_on='LOAN_MON')\n",
    "df_2025_APT.info()"
   ]
  },
  {
   "cell_type": "code",
   "execution_count": null,
   "metadata": {},
   "outputs": [],
   "source": [
    "# 훈련용 데이터와 동일하게 만들기 위해 불필요한 컬럼 제거\n",
    "# 종속 변수 제거\n",
    "df_2025_APT.drop(columns=['THING_AMT', 'LOAN_MON', 'RCPT_YR', \n",
    "                         'BLDG_NM', 'RTRCN_DAY', 'BLDG_USG', \n",
    "                         'DCLR_SE', 'CTRT_YR', 'CTRT_MON', 'STDG_NM'],  inplace=True)"
   ]
  },
  {
   "cell_type": "code",
   "execution_count": null,
   "metadata": {},
   "outputs": [],
   "source": [
    "# 2024년인 거래체결 일자 (CTRT_DAY) 임의의 2025년 날짜로 변환\n",
    "date_range = pd.date_range(start='2025-01-01', end='2025-12-31')\n",
    "df_2025_APT['CTRT_DAY'] = np.random.choice(date_range, size=len(df_2025_APT))\n",
    "df_2025_APT['CTRT_DAY'] = pd.to_datetime(df_2025_APT['CTRT_DAY'], infer_datetime_format = True)"
   ]
  },
  {
   "cell_type": "code",
   "execution_count": null,
   "metadata": {},
   "outputs": [],
   "source": [
    "# 날짜를 timestamp로 변환 후 년, 월로 분해해서 컬럼 생성\n",
    "df_2025_APT['CTRT_YR'] = df_2025_APT['CTRT_DAY'].dt.year\n",
    "df_2025_APT['CTRT_MO'] = df_2025_APT['CTRT_DAY'].dt.month\n",
    "\n",
    "# CTRT_DAY는 수치형 변환안할 것이기 때문에 삭제\n",
    "df_2025_APT.drop(columns='CTRT_DAY', inplace=True)"
   ]
  },
  {
   "cell_type": "code",
   "execution_count": null,
   "metadata": {},
   "outputs": [],
   "source": [
    "# 범주형 변수 컬럼을 one-hot encoding\n",
    "cat_features = ['CGG_NM', 'AREA_NM']\n",
    "num_features = [col for col in df_2025_APT.columns if col not in cat_features]\n",
    "\n",
    "preprocessor = ColumnTransformer(\n",
    "    transformers=[\n",
    "        ('numbers', 'passthrough', num_features),  # 수치형 변수 그대로 사용\n",
    "        ('categories', OneHotEncoder(), cat_features)  # 범주형 변수 원-핫 인코딩\n",
    "    ])"
   ]
  },
  {
   "cell_type": "code",
   "execution_count": null,
   "metadata": {},
   "outputs": [],
   "source": [
    "# 종속 변수(y) 제외하고, 독립 변수(X)만 사용\n",
    "# df_2025_APT에는 종속 변수인 THING_AMT가 제거된 상태\n",
    "X_test = df_2025_APT \n",
    "\n",
    "# 예측\n",
    "predictions = model.predict(X_test)  # rf_model은 이전에 훈련한 랜덤 포레스트 모델\n",
    "\n",
    "# 결과를 신규 컬럼으로 추가\n",
    "df_2025_APT[\"Predicted_Target\"] = predictions\n",
    "\n",
    "# 예측 결과를 다시 지수변환\n",
    "df_2025_APT[\"Predicted_Target\"] = np.exp(df_2025_APT[\"Predicted_Target\"])\n",
    "\n",
    "display(df_2025_APT)"
   ]
  },
  {
   "cell_type": "code",
   "execution_count": null,
   "metadata": {},
   "outputs": [],
   "source": [
    "# 2024년도 실제 데이터와 비교하기\n",
    "df_2025_APT['REAL_THING_AMT'] = df_APT_final['THING_AMT'].values"
   ]
  },
  {
   "cell_type": "code",
   "execution_count": null,
   "metadata": {},
   "outputs": [],
   "source": [
    "display(df_2025_APT)"
   ]
  },
  {
   "cell_type": "markdown",
   "metadata": {},
   "source": [
    "# 예측 모델 결과로 2024년 대비 2025년 예측 거래 금액관련 시각화하기"
   ]
  },
  {
   "cell_type": "code",
   "execution_count": null,
   "metadata": {},
   "outputs": [],
   "source": [
    "# 2024년도 대비 2025년도 거래 금액 시각화 자료 만들기\n",
    "# 모델 훈련 때문에 삭제했던 아파트이름 (BLDG_NM) 컬럼 추가하기\n",
    "df_2425 = df_2025_APT.copy()\n",
    "df_2425.insert(4, 'BLDG_NM', df_APT_final['BLDG_NM'].values)"
   ]
  },
  {
   "cell_type": "code",
   "execution_count": null,
   "metadata": {},
   "outputs": [],
   "source": [
    "# 시각화를 위해 2025년도 예측 거래금액을 거래금액 (THING_AMT) 컬럼으로 이름 변경해서 통일화하기\n",
    "df_2425.rename(columns={'Predicted_Target' : 'THING_AMT'}, inplace=True)\n",
    "df_2425.head()"
   ]
  },
  {
   "cell_type": "code",
   "execution_count": null,
   "metadata": {},
   "outputs": [],
   "source": [
    "# 상승률 확인을 위한 데이터 준비\n",
    "df_2024_1 = df_APT_2.drop_duplicates(['BLDG_NM'])\n",
    "df_2024_1 = df_2024_1[df_2024_1['BLDG_NM'].str.contains('래미안|힐스테이트|디에이치|푸르지오|자이|편한세상|아크로|더샵|롯데캐슬|SK뷰|아이파크|IPARK', regex=True, na=False)].sort_values(by=['AREA_NM', 'CGG_NM', 'STDG_NM'], ascending=[True, True, True])\n",
    "\n",
    "df_2024_1.info()"
   ]
  },
  {
   "cell_type": "code",
   "execution_count": null,
   "metadata": {},
   "outputs": [],
   "source": [
    "# 2024년도 데이터프레임과 2025년도 데이터프레임 수직 결합\n",
    "df_2425_1 = pd.concat([df_2024_1, df_2425], axis=0)"
   ]
  },
  {
   "cell_type": "code",
   "execution_count": null,
   "metadata": {},
   "outputs": [],
   "source": [
    "df_2025_APT.head()"
   ]
  },
  {
   "cell_type": "code",
   "execution_count": null,
   "metadata": {},
   "outputs": [],
   "source": [
    "# 2024년도 대비 2025년도 상승률 확인하기\n",
    "df_growth = df_2025_APT.copy()\n",
    "df_growth['GROW_RT']=(df_2025_APT['Predicted_Target'] - df_2025_APT['REAL_THING_AMT']) / df_2025_APT['REAL_THING_AMT'] * 100\n",
    "df_growth.head()"
   ]
  },
  {
   "cell_type": "code",
   "execution_count": null,
   "metadata": {},
   "outputs": [],
   "source": [
    "# 아파트명 컬럼 추가\n",
    "df_growth.insert(3, 'BLDG_NM', df_APT_final['BLDG_NM'].values)\n",
    "df_growth.head()"
   ]
  },
  {
   "cell_type": "code",
   "execution_count": null,
   "metadata": {},
   "outputs": [],
   "source": [
    "# 상승률 (GROW_RT) 기준 내림차순 정렬하여, 2024년도 대비 2025년도 예측 거래금액 상승률이 큰 아파트 순서대로 정렬\n",
    "df_growth1=df_growth.sort_values(by=['GROW_RT'], ascending=False)\n",
    "df_growth1.head(24)"
   ]
  },
  {
   "cell_type": "code",
   "execution_count": null,
   "metadata": {},
   "outputs": [],
   "source": [
    "# 아파트별 2024년도 대비 2025년도 예측 거래금액\n",
    "# 다중 막대그래프 그리기\n",
    "plt.figure(figsize=(16, 6))\n",
    "custom_palette = {2024: '#D2B48C', 2025: '#A67B5B'}\n",
    "\n",
    "sns.barplot(data=df_2425_1, x='BLDG_NM', y='THING_AMT', hue='CTRT_YR', palette=custom_palette,\n",
    "           order = df_growth1.sort_values('GROW_RT', ascending=False).BLDG_NM, width=0.5)\n",
    "\n",
    "# 그래프 꾸미기\n",
    "plt.title('2024년 대비 2025년도 예측 거래금액', fontsize=16)\n",
    "plt.legend(title='CTRT_YR', bbox_to_anchor=(1, 1), loc='upper left')\n",
    "plt.xticks(rotation=45, ha='right')\n",
    "plt.xlabel('')\n",
    "plt.ylabel('')\n",
    "\n",
    "# 그래프 출력\n",
    "plt.tight_layout()\n",
    "plt.show()"
   ]
  },
  {
   "cell_type": "code",
   "execution_count": null,
   "metadata": {
    "scrolled": true
   },
   "outputs": [],
   "source": [
    "# 아파트별 2024년도 대비 2025년도 가격 상승률\n",
    "plt.figure(figsize = (8,8))\n",
    "\n",
    "# 막대그래프 그리기\n",
    "plt.barh(df_growth1['BLDG_NM'], df_growth1['GROW_RT'], color='#C4A484')\n",
    "plt.title('아파트별 2024년도 대비 2025년도 거래 가격 상승률', fontsize=16)\n",
    "plt.xlabel('')\n",
    "plt.ylabel('')\n",
    "plt.show()"
   ]
  },
  {
   "cell_type": "code",
   "execution_count": null,
   "metadata": {},
   "outputs": [],
   "source": []
  }
 ],
 "metadata": {
  "colab": {
   "authorship_tag": "ABX9TyMlraqv2/d4uSG8q6brq10K",
   "provenance": []
  },
  "kernelspec": {
   "display_name": "Python 3",
   "language": "python",
   "name": "python3"
  },
  "language_info": {
   "codemirror_mode": {
    "name": "ipython",
    "version": 3
   },
   "file_extension": ".py",
   "mimetype": "text/x-python",
   "name": "python",
   "nbconvert_exporter": "python",
   "pygments_lexer": "ipython3",
   "version": "3.9.12"
  }
 },
 "nbformat": 4,
 "nbformat_minor": 4
}
